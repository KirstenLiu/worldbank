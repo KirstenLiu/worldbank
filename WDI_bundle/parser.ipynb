{
 "metadata": {
  "name": ""
 },
 "nbformat": 3,
 "nbformat_minor": 0,
 "worksheets": [
  {
   "cells": [
    {
     "cell_type": "markdown",
     "metadata": {},
     "source": [
      "\u8655\u7406\u9019\u5f35\u8868 http://data.worldbank.org/data-catalog/world-development-indicators\n",
      "\n",
      "\u6a94\u6848\u7d04 35 MB \u665a\u9ede\u518d push"
     ]
    },
    {
     "cell_type": "code",
     "collapsed": false,
     "input": [
      "import pandas as pd"
     ],
     "language": "python",
     "metadata": {},
     "outputs": [],
     "prompt_number": 1
    },
    {
     "cell_type": "code",
     "collapsed": false,
     "input": [
      "df_main = pd.read_csv(\"WDI_Data.csv\")"
     ],
     "language": "python",
     "metadata": {},
     "outputs": [],
     "prompt_number": 4
    },
    {
     "cell_type": "code",
     "collapsed": false,
     "input": [
      "df_all_ind = df_main.ix[:, 2:4]"
     ],
     "language": "python",
     "metadata": {},
     "outputs": [],
     "prompt_number": 14
    },
    {
     "cell_type": "code",
     "collapsed": false,
     "input": [
      "ind_pairs = set(i[1:] for i in df_all_ind.itertuples())"
     ],
     "language": "python",
     "metadata": {},
     "outputs": [],
     "prompt_number": 23
    },
    {
     "cell_type": "code",
     "collapsed": false,
     "input": [
      "df_ind_list = pd.DataFrame(list(ind_pairs))"
     ],
     "language": "python",
     "metadata": {},
     "outputs": [],
     "prompt_number": 27
    },
    {
     "cell_type": "code",
     "collapsed": false,
     "input": [
      "df_ind_list.columns = [\"Indicator_Description\", \"Indicator_Name\"]"
     ],
     "language": "python",
     "metadata": {},
     "outputs": [],
     "prompt_number": 35
    },
    {
     "cell_type": "code",
     "collapsed": false,
     "input": [
      "df_ind_list.to_csv(\"ind_list.csv\", index=False)"
     ],
     "language": "python",
     "metadata": {},
     "outputs": [],
     "prompt_number": 38
    },
    {
     "cell_type": "code",
     "collapsed": false,
     "input": [
      "df_ind_list.head(20)"
     ],
     "language": "python",
     "metadata": {},
     "outputs": [
      {
       "html": [
        "<div style=\"max-height:1000px;max-width:1500px;overflow:auto;\">\n",
        "<table border=\"1\" class=\"dataframe\">\n",
        "  <thead>\n",
        "    <tr style=\"text-align: right;\">\n",
        "      <th></th>\n",
        "      <th>Indicator_Description</th>\n",
        "      <th>Indicator_Name</th>\n",
        "    </tr>\n",
        "  </thead>\n",
        "  <tbody>\n",
        "    <tr>\n",
        "      <th>0 </th>\n",
        "      <td> Final consumption expenditure, etc. (constant ...</td>\n",
        "      <td>       NE.CON.TETC.KN</td>\n",
        "    </tr>\n",
        "    <tr>\n",
        "      <th>1 </th>\n",
        "      <td> Literacy rate, youth total (% of people ages 1...</td>\n",
        "      <td>    SE.ADT.1524.LT.ZS</td>\n",
        "    </tr>\n",
        "    <tr>\n",
        "      <th>2 </th>\n",
        "      <td> Condom use, population ages 15-24, female (% o...</td>\n",
        "      <td>    SH.CON.1524.FE.ZS</td>\n",
        "    </tr>\n",
        "    <tr>\n",
        "      <th>3 </th>\n",
        "      <td>                                   Telephone lines</td>\n",
        "      <td>          IT.MLT.MAIN</td>\n",
        "    </tr>\n",
        "    <tr>\n",
        "      <th>4 </th>\n",
        "      <td> Average interest on new external debt commitme...</td>\n",
        "      <td>          DT.INR.PRVT</td>\n",
        "    </tr>\n",
        "    <tr>\n",
        "      <th>5 </th>\n",
        "      <td>                               Money (current LCU)</td>\n",
        "      <td>       FM.LBL.MONY.CN</td>\n",
        "    </tr>\n",
        "    <tr>\n",
        "      <th>6 </th>\n",
        "      <td> Household final consumption expenditure, etc. ...</td>\n",
        "      <td>       NE.CON.PETC.CD</td>\n",
        "    </tr>\n",
        "    <tr>\n",
        "      <th>7 </th>\n",
        "      <td> Net bilateral aid flows from DAC donors, Norwa...</td>\n",
        "      <td>       DC.DAC.NORL.CD</td>\n",
        "    </tr>\n",
        "    <tr>\n",
        "      <th>8 </th>\n",
        "      <td>              School enrollment, secondary (% net)</td>\n",
        "      <td>          SE.SEC.NENR</td>\n",
        "    </tr>\n",
        "    <tr>\n",
        "      <th>9 </th>\n",
        "      <td> Adjusted savings: carbon dioxide damage (% of ...</td>\n",
        "      <td>    NY.ADJ.DCO2.GN.ZS</td>\n",
        "    </tr>\n",
        "    <tr>\n",
        "      <th>10</th>\n",
        "      <td> Interest rate spread (lending rate minus depos...</td>\n",
        "      <td>          FR.INR.LNDP</td>\n",
        "    </tr>\n",
        "    <tr>\n",
        "      <th>11</th>\n",
        "      <td>                 PPG, bilateral (AMT, current US$)</td>\n",
        "      <td>       DT.AMT.BLAT.CD</td>\n",
        "    </tr>\n",
        "    <tr>\n",
        "      <th>12</th>\n",
        "      <td>         PPG, private creditors (AMT, current US$)</td>\n",
        "      <td>       DT.AMT.PRVT.CD</td>\n",
        "    </tr>\n",
        "    <tr>\n",
        "      <th>13</th>\n",
        "      <td>         (%) Generosity of Unemp benefits and ALMP</td>\n",
        "      <td>        lm_ub.gen_pop</td>\n",
        "    </tr>\n",
        "    <tr>\n",
        "      <th>14</th>\n",
        "      <td>                Time to resolve insolvency (years)</td>\n",
        "      <td>          IC.ISV.DURS</td>\n",
        "    </tr>\n",
        "    <tr>\n",
        "      <th>15</th>\n",
        "      <td> Trained teachers in primary education, male (%...</td>\n",
        "      <td>    SE.PRM.TCAQ.MA.ZS</td>\n",
        "    </tr>\n",
        "    <tr>\n",
        "      <th>16</th>\n",
        "      <td>          Procedures to register property (number)</td>\n",
        "      <td>          IC.PRP.PROC</td>\n",
        "    </tr>\n",
        "    <tr>\n",
        "      <th>17</th>\n",
        "      <td>              Gross domestic savings (current LCU)</td>\n",
        "      <td>       NY.GDS.TOTL.CN</td>\n",
        "    </tr>\n",
        "    <tr>\n",
        "      <th>18</th>\n",
        "      <td> Adjusted savings: net national savings (% of GNI)</td>\n",
        "      <td>    NY.ADJ.NNAT.GN.ZS</td>\n",
        "    </tr>\n",
        "    <tr>\n",
        "      <th>19</th>\n",
        "      <td> GDP per unit of energy use (constant 2005 PPP ...</td>\n",
        "      <td> EG.GDP.PUSE.KO.PP.KD</td>\n",
        "    </tr>\n",
        "  </tbody>\n",
        "</table>\n",
        "</div>"
       ],
       "metadata": {},
       "output_type": "pyout",
       "prompt_number": 39,
       "text": [
        "                                Indicator_Description        Indicator_Name\n",
        "0   Final consumption expenditure, etc. (constant ...        NE.CON.TETC.KN\n",
        "1   Literacy rate, youth total (% of people ages 1...     SE.ADT.1524.LT.ZS\n",
        "2   Condom use, population ages 15-24, female (% o...     SH.CON.1524.FE.ZS\n",
        "3                                     Telephone lines           IT.MLT.MAIN\n",
        "4   Average interest on new external debt commitme...           DT.INR.PRVT\n",
        "5                                 Money (current LCU)        FM.LBL.MONY.CN\n",
        "6   Household final consumption expenditure, etc. ...        NE.CON.PETC.CD\n",
        "7   Net bilateral aid flows from DAC donors, Norwa...        DC.DAC.NORL.CD\n",
        "8                School enrollment, secondary (% net)           SE.SEC.NENR\n",
        "9   Adjusted savings: carbon dioxide damage (% of ...     NY.ADJ.DCO2.GN.ZS\n",
        "10  Interest rate spread (lending rate minus depos...           FR.INR.LNDP\n",
        "11                  PPG, bilateral (AMT, current US$)        DT.AMT.BLAT.CD\n",
        "12          PPG, private creditors (AMT, current US$)        DT.AMT.PRVT.CD\n",
        "13          (%) Generosity of Unemp benefits and ALMP         lm_ub.gen_pop\n",
        "14                 Time to resolve insolvency (years)           IC.ISV.DURS\n",
        "15  Trained teachers in primary education, male (%...     SE.PRM.TCAQ.MA.ZS\n",
        "16           Procedures to register property (number)           IC.PRP.PROC\n",
        "17               Gross domestic savings (current LCU)        NY.GDS.TOTL.CN\n",
        "18  Adjusted savings: net national savings (% of GNI)     NY.ADJ.NNAT.GN.ZS\n",
        "19  GDP per unit of energy use (constant 2005 PPP ...  EG.GDP.PUSE.KO.PP.KD"
       ]
      }
     ],
     "prompt_number": 39
    },
    {
     "cell_type": "code",
     "collapsed": false,
     "input": [],
     "language": "python",
     "metadata": {},
     "outputs": []
    }
   ],
   "metadata": {}
  }
 ]
}